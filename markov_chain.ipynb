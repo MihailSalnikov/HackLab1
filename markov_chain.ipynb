{
 "metadata": {
  "language_info": {
   "codemirror_mode": {
    "name": "ipython",
    "version": 3
   },
   "file_extension": ".py",
   "mimetype": "text/x-python",
   "name": "python",
   "nbconvert_exporter": "python",
   "pygments_lexer": "ipython3",
   "version": "3.8.3-final"
  },
  "orig_nbformat": 2,
  "kernelspec": {
   "name": "python3",
   "display_name": "Python 3"
  }
 },
 "nbformat": 4,
 "nbformat_minor": 2,
 "cells": [
  {
   "cell_type": "code",
   "execution_count": 48,
   "metadata": {},
   "outputs": [],
   "source": [
    "import numpy as np\n",
    "import matplotlib.pyplot as plt"
   ]
  },
  {
   "cell_type": "code",
   "execution_count": 130,
   "metadata": {},
   "outputs": [],
   "source": [
    "class State():\n",
    "    def __init__(self, money=0, start_time=0):\n",
    "        self.money = money\n",
    "        self.time = start_time\n",
    "\n",
    "    \n",
    "class Action():\n",
    "    def __init__(self, message, state_change, child, prob=None):\n",
    "        self.message = message\n",
    "        self.state_change = state_change\n",
    "        self.child = child\n",
    "        self.prob = prob\n",
    "    \n",
    "    def apply_state_change(self, state):\n",
    "        return self.state_change(state)\n",
    "\n",
    "    def __repr__(self):\n",
    "        return f'action: {self.message}'\n",
    "\n",
    "\n",
    "class Node():\n",
    "    def __init__(self, message, actions):\n",
    "        self.message = message\n",
    "        self.actions = actions\n",
    "\n",
    "class RandomNode(Node):\n",
    "    def __init__(self, *args, **kwargs):\n",
    "        super().__init__(*args, **kwargs)\n",
    "        self.type = 'random'\n",
    "    \n",
    "    def do_action(self, state):\n",
    "        probs = [a.prob for a in self.actions]\n",
    "        action_id = np.random.choice(range(len(self.actions)), p=probs)\n",
    "        action = self.actions[action_id]\n",
    "        new_state = action.apply_state_change(state)\n",
    "        return new_state, action.child, action.message\n",
    "\n",
    "class ActionNode(Node):\n",
    "    def __init__(self, *args, **kwargs):\n",
    "        super().__init__(*args, **kwargs)\n",
    "        self.type = 'action'\n",
    "\n",
    "    @property\n",
    "    def action_messages(self):\n",
    "        for i, action in enumerate(self.actions):\n",
    "            yield (i, action.message)\n",
    "\n",
    "    def do_action(self, state):\n",
    "        for i, msg in self.action_messages:\n",
    "            print(f'{i}: ', end='')\n",
    "            if msg:\n",
    "                print(msg)\n",
    "        act_id = int(input('choose id'))\n",
    "        action = self.actions[act_id]\n",
    "        new_state = action.apply_state_change(state)\n",
    "        return new_state, action.child, None"
   ]
  },
  {
   "cell_type": "code",
   "execution_count": 131,
   "metadata": {},
   "outputs": [],
   "source": [
    "def state_change_generator(money, time):\n",
    "    def state_change(state):\n",
    "        state.money += money\n",
    "        state.time += time\n",
    "        return state\n",
    "    return state_change"
   ]
  },
  {
   "cell_type": "code",
   "execution_count": 132,
   "metadata": {},
   "outputs": [],
   "source": [
    "class World():\n",
    "    def __init__(self, nodes):\n",
    "        self.nodes = nodes\n",
    "        self.current_node = self.nodes[0]\n",
    "        self.current_state = State(1000, 0)\n",
    "\n",
    "    def time_step(self):\n",
    "        if self.current_node.message:\n",
    "            print(self.current_node.message)\n",
    "\n",
    "        self.current_state, new_node_id, action_message = self.current_node.do_action(self.current_state)\n",
    "        if action_message:\n",
    "            print(action_message)\n",
    "        \n",
    "        self.current_node = self.nodes[new_node_id]\n",
    "    \n",
    "    def __repr__(self, ):\n",
    "        return f'current state: {self.current_state.money} ТФ Рублей. Сейчас {self.current_state.time} игровой день'"
   ]
  },
  {
   "cell_type": "code",
   "execution_count": 133,
   "metadata": {},
   "outputs": [],
   "source": [
    "def node_parser(raw_node):\n",
    "    actions = []\n",
    "    for raw_action in raw_node['actions']:\n",
    "        if raw_node['type'] == 'action':\n",
    "            prob = None\n",
    "        else:\n",
    "            prob = raw_action['prob']\n",
    "        actions.append(\n",
    "            Action(\n",
    "                raw_action['message'],\n",
    "                state_change_generator(\n",
    "                    raw_action['state_change']['money'],\n",
    "                    raw_action['state_change']['time']\n",
    "                ),\n",
    "                raw_action['child'],\n",
    "                prob\n",
    "            )\n",
    "        )\n",
    "\n",
    "    if raw_node['type'] == 'action':\n",
    "        return ActionNode(raw_node['message'], actions)\n",
    "    else:\n",
    "         return RandomNode(raw_node['message'], actions)\n",
    "\n"
   ]
  },
  {
   "cell_type": "code",
   "execution_count": 139,
   "metadata": {},
   "outputs": [],
   "source": [
    "import yaml\n",
    "\n",
    "with open('action_tree.yaml', 'r') as f:\n",
    "    raw_nodes = yaml.load(f.read())['nodes']\n",
    "\n",
    "nodes = [node_parser(n) for n in raw_nodes]"
   ]
  },
  {
   "cell_type": "code",
   "execution_count": 140,
   "metadata": {
    "tags": []
   },
   "outputs": [
    {
     "output_type": "stream",
     "name": "stdout",
     "text": "Ну что, пойдем на работу?\n0: Да\n1: Нет\nТы упал с лестницы, теперь нужны деньги на лекарства. 500 ТФ рублей не мало, но на здоровье экономить нельзя\nНу что, пойдем на работу?\n0: Да\n1: Нет\nТы упал с лестницы, теперь нужны деньги на лекарства. 500 ТФ рублей не мало, но на здоровье экономить нельзя\nНу что, пойдем на работу?\n0: Да\n1: Нет\nТы получил наследство от далекого дяди, которого ты никогда не знал. Ужасная утрата, надеюсь эти 1000 ТФ рублей смогут помочь.\nНу что, пойдем на работу?\n0: Да\n1: Нет\nТы получил наследство от далекого дяди, которого ты никогда не знал. Ужасная утрата, надеюсь эти 1000 ТФ рублей смогут помочь.\n"
    }
   ],
   "source": [
    "world = World(nodes)\n",
    "world.time_step()\n",
    "world.time_step()\n",
    "world.time_step()\n",
    "world.time_step()\n",
    "world.time_step()\n",
    "world.time_step()\n",
    "world.time_step()\n",
    "world.time_step()"
   ]
  },
  {
   "cell_type": "code",
   "execution_count": 143,
   "metadata": {},
   "outputs": [
    {
     "output_type": "execute_result",
     "data": {
      "text/plain": "current state: 2400 ТФ Рублей. Сейчас 8 игровой день"
     },
     "metadata": {},
     "execution_count": 143
    }
   ],
   "source": [
    "world"
   ]
  },
  {
   "cell_type": "code",
   "execution_count": null,
   "metadata": {},
   "outputs": [],
   "source": []
  }
 ]
}